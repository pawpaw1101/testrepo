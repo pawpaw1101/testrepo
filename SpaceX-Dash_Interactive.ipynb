{
    "cells": [
        {
            "cell_type": "code",
            "execution_count": null,
            "metadata": {
                "collapsed": true
            },
            "outputs": [],
            "source": "import pandas as pd\nimport dash\nimport dash_html_components as html\nimport dash_core_components as dcc\nfrom dash.dependencies import Input, Output\nimport plotly.express as px\n\n# Read the airline data into pandas dataframe\nspacex_df = pd.read_csv(\"spacex_launch_dash.csv\")\nmax_payload = spacex_df['Payload Mass (kg)'].max()\nmin_payload = spacex_df['Payload Mass (kg)'].min()\n\n# Create a dash application\napp = dash.Dash(__name__)\n\n# Create an app layout\napp.layout = html.Div(children=[html.H1('SpaceX Launch Records Dashboard',\n                                        style={'textAlign': 'center', 'color': '#503D36',\n                                               'font-size': 40}),\n                                # TASK 1: Add a dropdown list to enable Launch Site selection\n                                # The default select value is for ALL sites\n                                dcc.Dropdown(id='sitedropdown',\n                                value='ALL',\n                options=[\n                    {'label': 'ALL', 'value': 'ALL'},\n                    {'label': 'CCAFS LC-40', 'value': 'CCAFS LC-40'},\n                    {'label': 'VAFB SLC-4E', 'value': 'VAFB SLC-4E'},\n                    {'label': 'KSC LC-39A', 'value': 'KSC LC-39A'},\n                    {'label': 'CCAFS SLC-40', 'value': 'CCAFS SLC-40'}\n                ],\n                placeholder=\"Select a Launch Site here\",\n                searchable=True\n                ),\n                                html.Br(),\n\n                                # TASK 2: Add a pie chart to show the total successful launches count for all sites\n                                # If a specific launch site was selected, show the Success vs. Failed counts for the site\n                                html.Div(dcc.Graph(id='success-pie-chart')),\n                                html.Br(),\n\n                                html.P(\"Payload range (Kg):\"),\n                                # TASK 3: Add a slider to select payload range\n                                #dcc.RangeSlider(id='payload-slider',...)\n                                dcc.RangeSlider(id='payload-slider',\n                min=0, max=10000, step=1000,\n                marks={0: '0',\n                       10000: '10000'},\n                value=[0, 9600]), \n                                # TASK 4: Add a scatter chart to show the correlation between payload and launch success\n                                html.Div(dcc.Graph(id='success-payload-scatter-chart')),\n                                ])\n\n# TASK 2:\n# Add a callback function for `site-dropdown` as input, `success-pie-chart` as output\n@app.callback(Output(component_id='success-pie-chart', component_property='figure'),\n              Input(component_id='sitedropdown', component_property='value'))\n\ndef get_pie_chart(sitedropdown):\n        filtered_df = spacex_df\n        if sitedropdown == 'ALL':\n                fig = px.pie(spacex_df, values='class', \n                names='Launch Site', \n                title='All')\n                return fig\n        \n        elif sitedropdown == 'CCAFS LC-40':\n                spacex_df1 = spacex_df.loc[spacex_df['Launch Site']=='CCAFS LC-40']\n                fig  = px.pie(spacex_df1, values=spacex_df1['class'].value_counts().values, \n                names=spacex_df1['class'].value_counts().index, \n                title='CCAFS LC-40')\n                return fig\n        elif sitedropdown == 'VAFB SLC-4E':\n                spacex_df2 = spacex_df.loc[spacex_df['Launch Site']=='VAFB SLC-4E']\n                fig = px.pie(spacex_df2, values==spacex_df2['class'].value_counts().values, \n                names=spacex_df2['class'].value_counts().index, \n                title='VAFB SLC-4E')\n                return fig\n        elif sitedropdown == 'KSC LC-39A':\n                spacex_df3 = spacex_df.loc[spacex_df['Launch Site']=='KSC LC-39A']\n                fig = px.pie(spacex_df3, values=spacex_df3['class'].value_counts().values, \n                names=spacex_df3['class'].value_counts().index, \n                title='KSC LC-39A')\n                return fig\n        else:\n                spacex_df4=spacex_df.loc[spacex_df['Launch Site']=='CCAFS SLC-40']\n                fig = px.pie(spacex_df4, values=spacex_df4['class'].value_counts().values, \n                names=spacex_df4['class'].value_counts().index, \n                title='CCAFS SLC-40')\n                return fig\n\n# TASK 4:\n# Add a callback function for `site-dropdown` and `payload-slider` as inputs, `success-payload-scatter-chart` as output\n@app.callback(Output(component_id='success-payload-scatter-chart', component_property='figure'),\n              [Input(component_id='sitedropdown', component_property='value'),\n              Input(component_id=\"payload-slider\", component_property=\"value\")])\n\ndef get_scatter_chart(sitedropdown,payloadslider):\n        filtered_df = spacex_df\n        if sitedropdown == 'ALL':\n            spacex_df1 = spacex_df.loc[(spacex_df['Payload Mass (kg)']>=payloadslider[0])&(spacex_df['Payload Mass (kg)']<=payloadslider[1])]\n            fig1 = px.scatter(spacex_df1, x=\"Payload Mass (kg)\", y=\"class\", color=\"Booster Version Category\")\n            return fig1\n        \n        else: \n            spacex_df1 = spacex_df.loc[(spacex_df['Payload Mass (kg)']>=payloadslider[0])&(spacex_df['Payload Mass (kg)']<=payloadslider[1])&(spacex_df['Launch Site']==sitedropdown)]      \n            fig1 = px.scatter(spacex_df1, x=\"Payload Mass (kg)\", y=\"class\", color=\"Booster Version Category\",title=sitedropdown)\n            return fig1\n# Run the app\nif __name__ == '__main__':\n    app.run_server()\n"
        }
    ],
    "metadata": {
        "kernelspec": {
            "display_name": "Python 3.9",
            "language": "python",
            "name": "python3"
        },
        "language_info": {
            "codemirror_mode": {
                "name": "ipython",
                "version": 3
            },
            "file_extension": ".py",
            "mimetype": "text/x-python",
            "name": "python",
            "nbconvert_exporter": "python",
            "pygments_lexer": "ipython3",
            "version": "3.9.7"
        }
    },
    "nbformat": 4,
    "nbformat_minor": 1
}